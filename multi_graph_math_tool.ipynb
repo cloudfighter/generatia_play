{
  "nbformat": 4,
  "nbformat_minor": 0,
  "metadata": {
    "colab": {
      "provenance": [],
      "toc_visible": true,
      "include_colab_link": true
    },
    "kernelspec": {
      "name": "python3",
      "display_name": "Python 3"
    },
    "language_info": {
      "name": "python"
    }
  },
  "cells": [
    {
      "cell_type": "markdown",
      "metadata": {
        "id": "view-in-github",
        "colab_type": "text"
      },
      "source": [
        "<a href=\"https://colab.research.google.com/github/harald-gen01/generatia_play/blob/main/multi_graph_math_tool.ipynb\" target=\"_parent\"><img src=\"https://colab.research.google.com/assets/colab-badge.svg\" alt=\"Open In Colab\"/></a>"
      ]
    },
    {
      "cell_type": "markdown",
      "source": [
        "Reference:\n",
        "https://langchain-ai.github.io/langgraph/tutorials/introduction/#part-1-build-a-basic-chatbot"
      ],
      "metadata": {
        "id": "VkQcXaiE7_D1"
      }
    },
    {
      "cell_type": "code",
      "source": [
        "!pip install > /dev/null 2>&1 \\\n",
        "            langchain \\\n",
        "            langchainhub \\\n",
        "            langchain-openai \\\n",
        "            langsmith \\\n",
        "            langchain-community \\\n",
        "            tavily-python \\\n",
        "            youtube_search \\\n",
        "            langgraph"
      ],
      "metadata": {
        "id": "jmrABNZPy5GS"
      },
      "execution_count": null,
      "outputs": []
    },
    {
      "cell_type": "code",
      "source": [
        "import os"
      ],
      "metadata": {
        "id": "oRiaSLTA7cMK"
      },
      "execution_count": null,
      "outputs": []
    },
    {
      "cell_type": "code",
      "execution_count": null,
      "metadata": {
        "id": "4lTa4fGgxIPc"
      },
      "outputs": [],
      "source": [
        "from google.colab import userdata\n",
        "\n",
        "\n",
        "OPENAI_API_KEY = userdata.get('openai_api_key')\n",
        "TAVILY_API_KEY = userdata.get('tavily_api_key')\n",
        "\n",
        "LANGCHAIN_API_KEY = userdata.get('LANGCHAIN_API_KEY')\n",
        "LANGCHAIN_TRACING_V2 = userdata.get('LANGCHAIN_TRACING_V2')\n",
        "LANGCHAIN_PROJECT = userdata.get('LANGCHAIN_PROJECT')"
      ]
    },
    {
      "cell_type": "markdown",
      "source": [
        "Math equations"
      ],
      "metadata": {
        "id": "R7moLf-f9ga-"
      }
    },
    {
      "cell_type": "code",
      "source": [
        "from langchain_core.tools import tool\n",
        "\n",
        "@tool\n",
        "def multiply(first_int: int, second_int: int) -> int:\n",
        "    \"\"\"Multiply two integers together.\"\"\"\n",
        "    return first_int * second_int\n",
        "\n",
        "@tool\n",
        "def add(first_int: int, second_int: int) -> int:\n",
        "    \"Add two integers.\"\n",
        "    return first_int + second_int\n",
        "\n",
        "@tool\n",
        "def exponentiate(base: int, exponent: int) -> int:\n",
        "    \"Exponentiate the base to the exponent power.\"\n",
        "    return base**exponent\n",
        "\n",
        "tools_equations = (multiply, add, exponentiate)"
      ],
      "metadata": {
        "id": "vVbN1KFFAIP-"
      },
      "execution_count": null,
      "outputs": []
    },
    {
      "cell_type": "markdown",
      "source": [
        "Web and video search"
      ],
      "metadata": {
        "id": "sMggZUeH9Uei"
      }
    },
    {
      "cell_type": "code",
      "source": [
        "from langchain_core.tools import tool\n",
        "from langchain_community.tools.tavily_search import TavilySearchResults\n",
        "from langchain_community.tools import YouTubeSearchTool\n",
        "\n",
        "os.environ[\"TAVILY_API_KEY\"] = TAVILY_API_KEY\n",
        "\n",
        "\n",
        "@tool\n",
        "def web_search(search: str) -> str:\n",
        "    \"\"\"Web search using Tavily API.\"\"\"\n",
        "    os.environ[\"TAVILY_API_KEY\"] = TAVILY_API_KEY\n",
        "    search_results = TavilySearchResults(max_results=5)\n",
        "    return search_results (search)\n",
        "\n",
        "\n",
        "\n",
        "@tool\n",
        "def youtube_search(search: str, number: int) -> str:\n",
        "    \"\"\"YouTube search.\"\"\"\n",
        "    yt_search_tool = YouTubeSearchTool()\n",
        "    return yt_search_tool(search)\n",
        "\n",
        "tools_search = (web_search, youtube_search)"
      ],
      "metadata": {
        "id": "qlge1nqiF_Am"
      },
      "execution_count": null,
      "outputs": []
    },
    {
      "cell_type": "markdown",
      "source": [
        "Helper to add nodes"
      ],
      "metadata": {
        "id": "WlwHBATmOWlm"
      }
    },
    {
      "cell_type": "code",
      "source": [
        "from langchain.agents import AgentExecutor, create_openai_tools_agent\n",
        "from langchain_core.messages import BaseMessage, HumanMessage\n",
        "from langchain_openai import ChatOpenAI\n",
        "\n",
        "def create_agent(llm: ChatOpenAI, tools: list, system_prompt: str):\n",
        "    # Each worker node will be given a name and some tools.\n",
        "    prompt = ChatPromptTemplate.from_messages(\n",
        "        [\n",
        "            (\n",
        "                \"system\",\n",
        "                system_prompt,\n",
        "            ),\n",
        "            MessagesPlaceholder(variable_name=\"messages\"),\n",
        "            MessagesPlaceholder(variable_name=\"agent_scratchpad\"),\n",
        "        ]\n",
        "    )\n",
        "    agent = create_openai_tools_agent(llm, tools, prompt)\n",
        "    executor = AgentExecutor(agent=agent, tools=tools)\n",
        "    return executor"
      ],
      "metadata": {
        "id": "zvh3WDtlERlA"
      },
      "execution_count": null,
      "outputs": []
    },
    {
      "cell_type": "markdown",
      "source": [
        "Create nodes"
      ],
      "metadata": {
        "id": "JkEi7Z8_Tfud"
      }
    },
    {
      "cell_type": "code",
      "source": [
        "def agent_node(state, agent, name):\n",
        "    result = agent.invoke(state)\n",
        "    return {\"messages\": [HumanMessage(content=result[\"output\"], name=name)]}\n"
      ],
      "metadata": {
        "id": "wyJNqWgsEih3"
      },
      "execution_count": null,
      "outputs": []
    },
    {
      "cell_type": "markdown",
      "source": [
        "Create supervisor"
      ],
      "metadata": {
        "id": "y50cVZi8E0o-"
      }
    },
    {
      "cell_type": "code",
      "source": [
        "from langchain_core.prompts import ChatPromptTemplate, MessagesPlaceholder\n",
        "from langchain_core.output_parsers.openai_functions import JsonOutputFunctionsParser\n",
        "\n",
        "roles = [\"solver\", \"searcher\"]\n",
        "system_prompt = (\n",
        "    \"You are a math specialist tasked with managing a conversation between the\"\n",
        "    \" following roles:  {roles}. Given the following user request,\"\n",
        "    \" respond with the role to act next. Each role will perform a\"\n",
        "    \" task and respond with their results and status. When finished,\"\n",
        "    \" respond with FINISH.\"\n",
        ")\n",
        "\n",
        "# Our team supervisor is an LLM node. It just picks the next agent to process\n",
        "# and decides when the work is completed\n",
        "options = [\"FINISH\"] + roles\n",
        "\n",
        "# Using openai function calling can make output parsing easier for us\n",
        "function_def = {\n",
        "    \"name\": \"route\",\n",
        "    \"description\": \"Select the next role.\",\n",
        "    \"parameters\": {\n",
        "        \"title\": \"routeSchema\",\n",
        "        \"type\": \"object\",\n",
        "        \"properties\": {\n",
        "            \"next\": {\n",
        "                \"title\": \"Next\",\n",
        "                \"anyOf\": [\n",
        "                    {\"enum\": options},\n",
        "                ],\n",
        "            }\n",
        "        },\n",
        "        \"required\": [\"next\"],\n",
        "    },\n",
        "}\n",
        "\n",
        "prompt = ChatPromptTemplate.from_messages(\n",
        "    [\n",
        "        (\"system\", system_prompt),\n",
        "        MessagesPlaceholder(variable_name=\"messages\"),\n",
        "        (\n",
        "            \"system\",\n",
        "            \"Given the conversation above, who should act next?\"\n",
        "            \" Or should we FINISH? Select one of: {options}\",\n",
        "        ),\n",
        "    ]\n",
        ").partial(options=str(options), roles=\", \".join(roles))\n",
        "\n",
        "os.environ[\"OPENAI_API_KEY\"] = OPENAI_API_KEY\n",
        "llm = ChatOpenAI(model=\"gpt-4o\")\n",
        "\n",
        "supervisor_chain = (\n",
        "    prompt\n",
        "    | llm.bind_functions(functions=[function_def], function_call=\"route\")\n",
        "    | JsonOutputFunctionsParser()\n",
        ")"
      ],
      "metadata": {
        "id": "wr8gI2ihE4Nk"
      },
      "execution_count": null,
      "outputs": []
    },
    {
      "cell_type": "markdown",
      "source": [
        "Construct Graph"
      ],
      "metadata": {
        "id": "4QYeGzAiUs9k"
      }
    },
    {
      "cell_type": "code",
      "source": [
        "import operator\n",
        "from typing import Annotated, Any, Dict, List, Optional, Sequence, TypedDict\n",
        "import functools\n",
        "\n",
        "from langchain_core.prompts import ChatPromptTemplate, MessagesPlaceholder\n",
        "from langgraph.graph import StateGraph, END\n",
        "\n",
        "\n",
        "# The agent state is the input to each node in the graph\n",
        "class AgentState(TypedDict):\n",
        "    # The annotation tells the graph that new messages will always\n",
        "    # be added to the current states\n",
        "    messages: Annotated[Sequence[BaseMessage], operator.add]\n",
        "    # The 'next' field indicates where to route to next\n",
        "    next: str\n",
        "\n",
        "\n",
        "solver_agent = create_agent(llm, (tools_equations), \"You are math equation solver.\")\n",
        "solver_node = functools.partial(agent_node, agent=solver_agent, name=\"solver\")\n",
        "\n",
        "search_agent = create_agent(llm, (tools_search), \"You are math equation web searcher on internet and youtube.\")\n",
        "search_agent_node = functools.partial(agent_node, agent=search_agent, name=\"searcher\")\n",
        "\n",
        "\n",
        "workflow = StateGraph(AgentState)\n",
        "workflow.add_node(\"solver\", solver_node)\n",
        "workflow.add_node(\"searcher\", search_agent_node)\n",
        "workflow.add_node(\"Math_specialist\", supervisor_chain)"
      ],
      "metadata": {
        "id": "DShYCtbzPbn7"
      },
      "execution_count": null,
      "outputs": []
    },
    {
      "cell_type": "markdown",
      "source": [
        "Connect edges in the graph"
      ],
      "metadata": {
        "id": "9tMjI6N-ZFJW"
      }
    },
    {
      "cell_type": "code",
      "source": [
        "# Add edges for members to report back to the supervisor\n",
        "\n",
        "for role in roles:\n",
        "    workflow.add_edge(role, \"Math_specialist\")\n",
        "\n",
        "# Conditional map to route based on the \"next\" field in the state\n",
        "\n",
        "conditional_map = {k: k for k in roles}\n",
        "conditional_map[\"FINISH\"] = END\n",
        "workflow.add_conditional_edges(\"Math_specialist\", lambda x: x[\"next\"], conditional_map)\n",
        "\n",
        "# Ensure that each node routes to an appropriate next step or ends\n",
        "\n",
        "workflow.add_edge(\"solver\", \"Math_specialist\")  # If Equation solver task can finish\n",
        "workflow.add_edge(\"searcher\", \"Math_specialist\")  # If Web and video searcher task can finish\n",
        "\n",
        "# Set the entry point of the workflow\n",
        "\n",
        "workflow.set_entry_point(\"Math_specialist\")\n",
        "\n",
        "# Compile the workflow graph\n",
        "graph = workflow.compile()"
      ],
      "metadata": {
        "id": "7NsszsUdj6qS"
      },
      "execution_count": null,
      "outputs": []
    },
    {
      "cell_type": "code",
      "source": [
        "from IPython.display import Image, display\n",
        "\n",
        "try:\n",
        "    display(Image(graph.get_graph().draw_mermaid_png()))\n",
        "except:\n",
        "    # This requires some extra dependencies and is optional\n",
        "    pass"
      ],
      "metadata": {
        "id": "Q5P20y6hYKxP",
        "colab": {
          "base_uri": "https://localhost:8080/",
          "height": 254
        },
        "outputId": "09c7991d-4409-47d9-9890-b78c824714fc"
      },
      "execution_count": null,
      "outputs": [
        {
          "output_type": "display_data",
          "data": {
            "image/jpeg": "[encoded data removed]",
            "text/plain": [
              "<IPython.core.display.Image object>"
            ]
          },
          "metadata": {}
        }
      ]
    },
    {
      "cell_type": "code",
      "source": [
        "from langchain_core.messages import BaseMessage\n",
        "\n",
        "def main():\n",
        "    while True:\n",
        "        user_input = input(\"User: \")\n",
        "        if user_input.lower() in [\"quit\", \"exit\", \"q\"]:\n",
        "            print(\"Goodbye!\")\n",
        "            break\n",
        "        for event in graph.stream({\"messages\": [(\"user\", user_input)]}):\n",
        "            print(event)  # Print the entire event\n",
        "            print(\"----\")  # Separator\n",
        "            for value in event.values():\n",
        "                if \"messages\" in value and isinstance(value[\"messages\"][-1], BaseMessage):\n",
        "                    print(\"Assistant:\", value[\"messages\"][-1].content)\n",
        "\n",
        "if __name__ == \"__main__\":\n",
        "    main()"
      ],
      "metadata": {
        "id": "ESkNAf8DsxZQ"
      },
      "execution_count": null,
      "outputs": []
    }
  ]
}